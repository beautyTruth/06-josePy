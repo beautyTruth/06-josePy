{
 "cells": [
  {
   "cell_type": "markdown",
   "id": "1f6c8e00",
   "metadata": {},
   "source": [
    "The lesser of two evens: write a function that returns the lesser of two given numbers if *both* numbers are even, but returns the greater if *one or both* numbers are odd\n",
    "\n",
    "    lesser_of_two_evens(4,6) --> 4\n",
    "    lesser_of_two_evens(8,11) --> 11\n",
    "    "
   ]
  },
  {
   "cell_type": "code",
   "execution_count": 1,
   "id": "2168f1c5",
   "metadata": {},
   "outputs": [],
   "source": [
    "def lesser_of_two_evens(a,b):\n",
    "    \n",
    "    # check to see if both numbers are even\n",
    "    if a%2==0 and b%2==0:\n",
    "        \n",
    "        # check to see \n",
    "        if a < b:\n",
    "            result = a\n",
    "        else:\n",
    "            result = b\n",
    "            \n",
    "    else:\n",
    "        \n",
    "        # since any other result different from above means that one or both of the variables are odd\n",
    "        if a > b:\n",
    "            result = a\n",
    "        else:\n",
    "            result = b\n",
    "    \n",
    "    return result\n",
    "            \n",
    "        \n",
    "\n",
    "        \n",
    "    \n",
    "   "
   ]
  },
  {
   "cell_type": "code",
   "execution_count": 4,
   "id": "6cc275b9",
   "metadata": {},
   "outputs": [
    {
     "data": {
      "text/plain": [
       "3"
      ]
     },
     "execution_count": 4,
     "metadata": {},
     "output_type": "execute_result"
    }
   ],
   "source": [
    "min(3,33)"
   ]
  },
  {
   "cell_type": "code",
   "execution_count": 5,
   "id": "7dbc1fad",
   "metadata": {},
   "outputs": [
    {
     "data": {
      "text/plain": [
       "99"
      ]
     },
     "execution_count": 5,
     "metadata": {},
     "output_type": "execute_result"
    }
   ],
   "source": [
    "max([3,44,66,99])"
   ]
  },
  {
   "cell_type": "code",
   "execution_count": 2,
   "id": "2d59bd1d",
   "metadata": {},
   "outputs": [
    {
     "data": {
      "text/plain": [
       "6"
      ]
     },
     "execution_count": 2,
     "metadata": {},
     "output_type": "execute_result"
    }
   ],
   "source": [
    "lesser_of_two_evens(6,8)"
   ]
  },
  {
   "cell_type": "code",
   "execution_count": 3,
   "id": "07d4945b",
   "metadata": {},
   "outputs": [
    {
     "data": {
      "text/plain": [
       "18"
      ]
     },
     "execution_count": 3,
     "metadata": {},
     "output_type": "execute_result"
    }
   ],
   "source": [
    "lesser_of_two_evens(18,11)"
   ]
  },
  {
   "cell_type": "code",
   "execution_count": 6,
   "id": "67b95a31",
   "metadata": {},
   "outputs": [],
   "source": [
    "def min_of_two_evens(a,b):\n",
    "    \n",
    "    if a%2==0 and b%2==0:\n",
    "        result = min(a,b)\n",
    "    else:\n",
    "        result = max(a,b)\n",
    "    return result"
   ]
  },
  {
   "cell_type": "code",
   "execution_count": 7,
   "id": "950a5e39",
   "metadata": {},
   "outputs": [
    {
     "data": {
      "text/plain": [
       "8"
      ]
     },
     "execution_count": 7,
     "metadata": {},
     "output_type": "execute_result"
    }
   ],
   "source": [
    "min_of_two_evens(8,88)"
   ]
  },
  {
   "cell_type": "code",
   "execution_count": 8,
   "id": "645ba18b",
   "metadata": {},
   "outputs": [
    {
     "data": {
      "text/plain": [
       "7"
      ]
     },
     "execution_count": 8,
     "metadata": {},
     "output_type": "execute_result"
    }
   ],
   "source": [
    "min_of_two_evens(7,6)"
   ]
  },
  {
   "cell_type": "code",
   "execution_count": 9,
   "id": "cff90f95",
   "metadata": {},
   "outputs": [],
   "source": [
    "def even_cleaner_of_two_evens(a,b):\n",
    "    if a%2==0 and b%2==0:\n",
    "        return min(a,b)\n",
    "    else:\n",
    "        return max(a,b)"
   ]
  },
  {
   "cell_type": "code",
   "execution_count": 10,
   "id": "e77d59af",
   "metadata": {},
   "outputs": [
    {
     "data": {
      "text/plain": [
       "99"
      ]
     },
     "execution_count": 10,
     "metadata": {},
     "output_type": "execute_result"
    }
   ],
   "source": [
    "even_cleaner_of_two_evens(98,99)"
   ]
  },
  {
   "cell_type": "code",
   "execution_count": 11,
   "id": "ca536865",
   "metadata": {},
   "outputs": [
    {
     "data": {
      "text/plain": [
       "78"
      ]
     },
     "execution_count": 11,
     "metadata": {},
     "output_type": "execute_result"
    }
   ],
   "source": [
    "even_cleaner_of_two_evens(77,78)"
   ]
  },
  {
   "cell_type": "markdown",
   "id": "868b86db",
   "metadata": {},
   "source": [
    "ANIMAL CRACKERS: wherein we write a function that takes in a two-word string and returns *True* if both words begin with the same letter"
   ]
  },
  {
   "cell_type": "markdown",
   "id": "5767ffbc",
   "metadata": {},
   "source": [
    "animal_crackers('Enraged Elephant') --> True\n",
    "animal_crackers('Dumbass Capybara') --> False"
   ]
  },
  {
   "cell_type": "code",
   "execution_count": 15,
   "id": "d08b8d29",
   "metadata": {},
   "outputs": [],
   "source": [
    "def animal_crackers(animal):\n",
    "    animal_list = animal.split()\n",
    "    print(animal_list)\n",
    "    \n",
    "    first = animal_list[0]\n",
    "    second = animal_list[1]\n",
    "    \n",
    "    return first[0] == second[0]"
   ]
  },
  {
   "cell_type": "code",
   "execution_count": 16,
   "id": "320e130f",
   "metadata": {},
   "outputs": [
    {
     "name": "stdout",
     "output_type": "stream",
     "text": [
      "['Enraged', 'Elephant']\n"
     ]
    },
    {
     "data": {
      "text/plain": [
       "True"
      ]
     },
     "execution_count": 16,
     "metadata": {},
     "output_type": "execute_result"
    }
   ],
   "source": [
    "animal_crackers('Enraged Elephant')"
   ]
  },
  {
   "cell_type": "code",
   "execution_count": 17,
   "id": "6e1f5fdc",
   "metadata": {},
   "outputs": [
    {
     "name": "stdout",
     "output_type": "stream",
     "text": [
      "['Dumbass', 'Capybara']\n"
     ]
    },
    {
     "data": {
      "text/plain": [
       "False"
      ]
     },
     "execution_count": 17,
     "metadata": {},
     "output_type": "execute_result"
    }
   ],
   "source": [
    "animal_crackers('Dumbass Capybara')"
   ]
  },
  {
   "cell_type": "markdown",
   "id": "d0bca15e",
   "metadata": {},
   "source": [
    "or it could be cleaner"
   ]
  },
  {
   "cell_type": "code",
   "execution_count": 23,
   "id": "fa597922",
   "metadata": {},
   "outputs": [],
   "source": [
    "def cleaner_animal_crackers(animal):\n",
    "    # catch the lower and upper case difference by lowering both\n",
    "    animal_list = animal.lower().split()\n",
    "    print(animal_list)\n",
    "    \n",
    "    return animal_list[0][0] == animal_list[1][0]"
   ]
  },
  {
   "cell_type": "code",
   "execution_count": 24,
   "id": "ab1c5917",
   "metadata": {},
   "outputs": [
    {
     "name": "stdout",
     "output_type": "stream",
     "text": [
      "['sleek', 'shark']\n"
     ]
    },
    {
     "data": {
      "text/plain": [
       "True"
      ]
     },
     "execution_count": 24,
     "metadata": {},
     "output_type": "execute_result"
    }
   ],
   "source": [
    "cleaner_animal_crackers('Sleek shark')"
   ]
  },
  {
   "cell_type": "code",
   "execution_count": 26,
   "id": "8b7d3fa6",
   "metadata": {},
   "outputs": [
    {
     "name": "stdout",
     "output_type": "stream",
     "text": [
      "['anxious', 'sloth']\n"
     ]
    },
    {
     "data": {
      "text/plain": [
       "False"
      ]
     },
     "execution_count": 26,
     "metadata": {},
     "output_type": "execute_result"
    }
   ],
   "source": [
    "cleaner_animal_crackers('Anxious sloth')"
   ]
  },
  {
   "cell_type": "markdown",
   "id": "87fcddf6",
   "metadata": {},
   "source": [
    "MAKES TWENTY: given two integers, return True if one of the integers is twenty or if the two add up to twenty; if not, return False"
   ]
  },
  {
   "cell_type": "code",
   "execution_count": 32,
   "id": "cd1392d9",
   "metadata": {},
   "outputs": [],
   "source": [
    "def makes_venti(k1,k2):\n",
    "#    if k1+k2==20 or k1==20 or k2==20:\n",
    "#        return True\n",
    "#    else:\n",
    "#        return False\n",
    "\n",
    "    return (k1+k2)==20 or k1==20 or k2==20"
   ]
  },
  {
   "cell_type": "code",
   "execution_count": 33,
   "id": "d8d6723b",
   "metadata": {},
   "outputs": [
    {
     "data": {
      "text/plain": [
       "True"
      ]
     },
     "execution_count": 33,
     "metadata": {},
     "output_type": "execute_result"
    }
   ],
   "source": [
    "makes_venti(3,17)"
   ]
  },
  {
   "cell_type": "code",
   "execution_count": 34,
   "id": "76d43d08",
   "metadata": {},
   "outputs": [
    {
     "data": {
      "text/plain": [
       "False"
      ]
     },
     "execution_count": 34,
     "metadata": {},
     "output_type": "execute_result"
    }
   ],
   "source": [
    "makes_venti(7,77)"
   ]
  },
  {
   "cell_type": "code",
   "execution_count": 35,
   "id": "0ac2acab",
   "metadata": {},
   "outputs": [
    {
     "data": {
      "text/plain": [
       "True"
      ]
     },
     "execution_count": 35,
     "metadata": {},
     "output_type": "execute_result"
    }
   ],
   "source": [
    "makes_venti(20,21)"
   ]
  },
  {
   "cell_type": "code",
   "execution_count": null,
   "id": "f57abe79",
   "metadata": {},
   "outputs": [],
   "source": []
  }
 ],
 "metadata": {
  "kernelspec": {
   "display_name": "Python 3 (ipykernel)",
   "language": "python",
   "name": "python3"
  },
  "language_info": {
   "codemirror_mode": {
    "name": "ipython",
    "version": 3
   },
   "file_extension": ".py",
   "mimetype": "text/x-python",
   "name": "python",
   "nbconvert_exporter": "python",
   "pygments_lexer": "ipython3",
   "version": "3.11.3"
  }
 },
 "nbformat": 4,
 "nbformat_minor": 5
}
