{
 "cells": [
  {
   "cell_type": "code",
   "execution_count": 4,
   "id": "67ec42c9",
   "metadata": {},
   "outputs": [],
   "source": [
    "def myfunc(z,x,u=0,r=0,j=0):\n",
    "    # returns 5% for the sum of z and x\n",
    "    return sum((z,x,u,r,j)) * 0.05"
   ]
  },
  {
   "cell_type": "code",
   "execution_count": 7,
   "id": "0cabbc07",
   "metadata": {},
   "outputs": [
    {
     "data": {
      "text/plain": [
       "17.6"
      ]
     },
     "execution_count": 7,
     "metadata": {},
     "output_type": "execute_result"
    }
   ],
   "source": [
    "myfunc(55,90,88,77,42)"
   ]
  },
  {
   "cell_type": "code",
   "execution_count": 8,
   "id": "9690ef23",
   "metadata": {},
   "outputs": [],
   "source": [
    "def newfunc(*args):\n",
    "    return sum(args) * 0.05"
   ]
  },
  {
   "cell_type": "code",
   "execution_count": 9,
   "id": "18d0a1c5",
   "metadata": {},
   "outputs": [
    {
     "data": {
      "text/plain": [
       "249.15"
      ]
     },
     "execution_count": 9,
     "metadata": {},
     "output_type": "execute_result"
    }
   ],
   "source": [
    "newfunc(9,5,3,7,89,4,43,67,8,5,4,3333,667,8,88,643)"
   ]
  },
  {
   "cell_type": "code",
   "execution_count": 19,
   "id": "41190a90",
   "metadata": {},
   "outputs": [],
   "source": [
    "def kfunc(**kwargs):\n",
    "    print(kwargs)\n",
    "    if 'cherries' in kwargs:\n",
    "        print('I really like {}'.format(kwargs['cherries']))\n",
    "    else:\n",
    "        print('There aint no cherries up in here.')"
   ]
  },
  {
   "cell_type": "code",
   "execution_count": 20,
   "id": "161fa605",
   "metadata": {},
   "outputs": [
    {
     "name": "stdout",
     "output_type": "stream",
     "text": [
      "{'cherries': 'peace', 'peaches': 'wonder', 'honey': 'virtue'}\n",
      "I really like peace\n"
     ]
    }
   ],
   "source": [
    "kfunc(cherries='peace',peaches='wonder',honey='virtue')"
   ]
  },
  {
   "cell_type": "code",
   "execution_count": 23,
   "id": "a3a5ab57",
   "metadata": {},
   "outputs": [],
   "source": [
    "def bothfunc(*args,**kwargs):\n",
    "    print(args,kwargs)\n",
    "    print(args)\n",
    "    print(kwargs)\n",
    "    print('Peace, love, and harmony are in {} {}'.format(args[0],kwargs['fruit']))"
   ]
  },
  {
   "cell_type": "code",
   "execution_count": 24,
   "id": "def828b4",
   "metadata": {},
   "outputs": [
    {
     "name": "stdout",
     "output_type": "stream",
     "text": [
      "(42, 77, 88) {'pie': 'key lime', 'fruit': 'cherries', 'food': 'honey'}\n",
      "(42, 77, 88)\n",
      "{'pie': 'key lime', 'fruit': 'cherries', 'food': 'honey'}\n",
      "Peace, love, and harmony are in 42 cherries\n"
     ]
    }
   ],
   "source": [
    "bothfunc(42,77,88,pie='key lime',fruit='cherries',food='honey')"
   ]
  },
  {
   "cell_type": "code",
   "execution_count": null,
   "id": "bebb0bd8",
   "metadata": {},
   "outputs": [],
   "source": []
  }
 ],
 "metadata": {
  "kernelspec": {
   "display_name": "Python 3 (ipykernel)",
   "language": "python",
   "name": "python3"
  },
  "language_info": {
   "codemirror_mode": {
    "name": "ipython",
    "version": 3
   },
   "file_extension": ".py",
   "mimetype": "text/x-python",
   "name": "python",
   "nbconvert_exporter": "python",
   "pygments_lexer": "ipython3",
   "version": "3.11.3"
  }
 },
 "nbformat": 4,
 "nbformat_minor": 5
}
