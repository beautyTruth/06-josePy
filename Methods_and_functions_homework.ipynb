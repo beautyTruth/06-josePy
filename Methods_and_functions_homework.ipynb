{
 "cells": [
  {
   "cell_type": "raw",
   "id": "93815310",
   "metadata": {},
   "source": [
    "Write a function that computes the volume of a sphere given its radius"
   ]
  },
  {
   "cell_type": "code",
   "execution_count": 1,
   "id": "47aae78c",
   "metadata": {},
   "outputs": [],
   "source": [
    "def peach(radius):\n",
    "    return (4/3)*(3.1415)*(radius**3)"
   ]
  },
  {
   "cell_type": "code",
   "execution_count": 2,
   "id": "f6b1e3ac",
   "metadata": {},
   "outputs": [
    {
     "data": {
      "text/plain": [
       "33.50933333333333"
      ]
     },
     "execution_count": 2,
     "metadata": {},
     "output_type": "execute_result"
    }
   ],
   "source": [
    "peach(2)"
   ]
  },
  {
   "cell_type": "raw",
   "id": "a8904368",
   "metadata": {},
   "source": [
    "Write a function that checks whether a number is in a given range (inclusive of high and low)"
   ]
  },
  {
   "cell_type": "code",
   "execution_count": 3,
   "id": "9e556e30",
   "metadata": {},
   "outputs": [],
   "source": [
    "def basket_of_peaches(cherry,little,big):\n",
    "    if cherry in range(little,big+1):\n",
    "        print(f'{cherry} is in the range of {little} and {big}')\n",
    "    else:\n",
    "        print(f'{cherry} is not in the range of {little} and {big}')"
   ]
  },
  {
   "cell_type": "code",
   "execution_count": 4,
   "id": "b42405b9",
   "metadata": {},
   "outputs": [
    {
     "name": "stdout",
     "output_type": "stream",
     "text": [
      "9 is not in the range of 2 and 7\n"
     ]
    }
   ],
   "source": [
    "# the check\n",
    "basket_of_peaches(9,2,7)"
   ]
  },
  {
   "cell_type": "raw",
   "id": "901b0ac4",
   "metadata": {},
   "source": [
    "the number 5 is within the range of 2 and 7"
   ]
  },
  {
   "cell_type": "raw",
   "id": "92a41bd5",
   "metadata": {},
   "source": [
    "below is if you wanted to just return a boolean"
   ]
  },
  {
   "cell_type": "code",
   "execution_count": 5,
   "id": "cb3b0aae",
   "metadata": {},
   "outputs": [],
   "source": [
    "def cherries_jubileean(peach,little,big):\n",
    "    return peach in range(little,big)"
   ]
  },
  {
   "cell_type": "code",
   "execution_count": 6,
   "id": "329920a8",
   "metadata": {},
   "outputs": [
    {
     "data": {
      "text/plain": [
       "True"
      ]
     },
     "execution_count": 6,
     "metadata": {},
     "output_type": "execute_result"
    }
   ],
   "source": [
    "cherries_jubileean(7,4,9)"
   ]
  },
  {
   "cell_type": "code",
   "execution_count": 7,
   "id": "3669848a",
   "metadata": {},
   "outputs": [
    {
     "data": {
      "text/plain": [
       "False"
      ]
     },
     "execution_count": 7,
     "metadata": {},
     "output_type": "execute_result"
    }
   ],
   "source": [
    "cherries_jubileean(8,9,11)"
   ]
  },
  {
   "cell_type": "markdown",
   "id": "ff3f6570",
   "metadata": {},
   "source": [
    "Write a python function that accepts a string and reports the number of uppercase letters and lowercase letters."
   ]
  },
  {
   "cell_type": "code",
   "execution_count": 8,
   "id": "e1e2de97",
   "metadata": {},
   "outputs": [],
   "source": [
    "def bouncy_jiggly(bikini):\n",
    "    little=0\n",
    "    big=0\n",
    "    \n",
    "    for cherry in bikini:\n",
    "        if cherry.isupper():\n",
    "            big+=1\n",
    "        elif cherry.islower():\n",
    "            little+=1\n",
    "        else:\n",
    "            pass\n",
    "    \n",
    "    print(f'In our statement: {bikini}, we achieved the following:')\n",
    "    print(f'There were {little} lowercase letters and {big} uppercase letters.')"
   ]
  },
  {
   "cell_type": "code",
   "execution_count": 9,
   "id": "bf095f00",
   "metadata": {},
   "outputs": [
    {
     "name": "stdout",
     "output_type": "stream",
     "text": [
      "In our statement: \"Hello, Miriam, you look amazing in that bikini here on Waikiki Beach.\", we achieved the following:\n",
      "There were 51 lowercase letters and 4 uppercase letters.\n"
     ]
    }
   ],
   "source": [
    "bikini = '\"Hello, Miriam, you look amazing in that bikini here on Waikiki Beach.\"'\n",
    "bouncy_jiggly(bikini)"
   ]
  },
  {
   "cell_type": "raw",
   "id": "614acefe",
   "metadata": {},
   "source": [
    "HERE IS THE RESULT USING A DICTIONARY:"
   ]
  },
  {
   "cell_type": "code",
   "execution_count": 54,
   "id": "b06c949d",
   "metadata": {},
   "outputs": [],
   "source": [
    "def k_cup(honey):\n",
    "    \n",
    "    big_book = {'big':0,'little':0}\n",
    "    \n",
    "#    little=0\n",
    "#    big=0\n",
    "    \n",
    "    for bubble in honey:\n",
    "        if bubble.isupper():\n",
    "            big_book['big'] += 1\n",
    "        elif bubble.islower():\n",
    "            big_book['little'] += 1\n",
    "        else:\n",
    "            pass\n",
    "        \n",
    "#    print(big_book['big'])\n",
    "    print(f'In our statement: {honey}, we achieved the following:')\n",
    "    print(f'There were {big_book[\"little\"]} lowercase letters and {big_book[\"big\"]} uppercase letters.')"
   ]
  },
  {
   "cell_type": "code",
   "execution_count": 55,
   "id": "fb953387",
   "metadata": {},
   "outputs": [],
   "source": [
    "honey = \"Dang, Miriam, your daddy must have been a meat thief. He stole two hams and put them in your back pockets!\""
   ]
  },
  {
   "cell_type": "code",
   "execution_count": 56,
   "id": "f870d57d",
   "metadata": {},
   "outputs": [
    {
     "name": "stdout",
     "output_type": "stream",
     "text": [
      "In our statement: Dang, Miriam, your daddy must have been a meat thief. He stole two hams and put them in your back pockets!, we achieved the following:\n",
      "There were 79 lowercase letters and 3 uppercase letters.\n"
     ]
    }
   ],
   "source": [
    "k_cup(honey)"
   ]
  },
  {
   "cell_type": "markdown",
   "id": "e874f1d0",
   "metadata": {},
   "source": [
    "Write a Python function that takes a list and returns a new list with the unique elements of the first list"
   ]
  },
  {
   "cell_type": "code",
   "execution_count": 67,
   "id": "7e12b0c3",
   "metadata": {},
   "outputs": [],
   "source": [
    "def anima_miriam(soul):\n",
    "    \n",
    "#    return list(set(soul))\n",
    "\n",
    "    unique_sunglasses = []\n",
    "    for eyeball in soul:\n",
    "        if eyeball not in unique_sunglasses:\n",
    "            unique_sunglasses.append(eyeball)\n",
    "    return unique_sunglasses\n",
    "    "
   ]
  },
  {
   "cell_type": "code",
   "execution_count": 68,
   "id": "806dd3fe",
   "metadata": {},
   "outputs": [],
   "source": [
    "amazing = [11,1,1,1,1,1,1,1,1,1,1,11,11,11,11,11,11,11,7,7,7,7,7,7,7,7,7,7,7,7,7,77,77,77,77,77,77,77,77,77,77,77,77,777,777,777,777,777,777,777,777,777,777,777,8,8,8,8,8,8,8,8,8,8,8,8]"
   ]
  },
  {
   "cell_type": "code",
   "execution_count": 69,
   "id": "2f91ebf6",
   "metadata": {},
   "outputs": [
    {
     "data": {
      "text/plain": [
       "[11, 1, 7, 77, 777, 8]"
      ]
     },
     "execution_count": 69,
     "metadata": {},
     "output_type": "execute_result"
    }
   ],
   "source": [
    "anima_miriam(amazing)"
   ]
  },
  {
   "cell_type": "markdown",
   "id": "ae8fac4f",
   "metadata": {},
   "source": [
    "Write a python function to multiply all of the numbers in a list"
   ]
  },
  {
   "cell_type": "code",
   "execution_count": 73,
   "id": "b809a646",
   "metadata": {},
   "outputs": [],
   "source": [
    "def fun_time(animals):\n",
    "    noahs_ark = 1\n",
    "    for species in animals:\n",
    "        noahs_ark = noahs_ark * species\n",
    "    return noahs_ark"
   ]
  },
  {
   "cell_type": "code",
   "execution_count": 76,
   "id": "b38694e3",
   "metadata": {},
   "outputs": [],
   "source": [
    "animal_crackers = [7,77,777,-7,11,1111,1111111]"
   ]
  },
  {
   "cell_type": "code",
   "execution_count": 77,
   "id": "34b400ed",
   "metadata": {},
   "outputs": [
    {
     "data": {
      "text/plain": [
       "-39808151842517751"
      ]
     },
     "execution_count": 77,
     "metadata": {},
     "output_type": "execute_result"
    }
   ],
   "source": [
    "fun_time(animal_crackers)"
   ]
  },
  {
   "cell_type": "markdown",
   "id": "db429f02",
   "metadata": {},
   "source": [
    "Write a Python function that checks to see if a word or phrase is a palindrome or not"
   ]
  },
  {
   "cell_type": "code",
   "execution_count": 94,
   "id": "80361df4",
   "metadata": {},
   "outputs": [],
   "source": [
    "def spacecataz(enchilada):\n",
    "    # remove the spaces from the string\n",
    "    enchilada = enchilada.replace(' ','')\n",
    "    # check to see if the string == to the reversed version of the string\n",
    "    return enchilada == enchilada[::-1]\n",
    "   "
   ]
  },
  {
   "cell_type": "code",
   "execution_count": 95,
   "id": "9fad9da7",
   "metadata": {},
   "outputs": [],
   "source": [
    "rumplestiltskin = 'never odd or even'"
   ]
  },
  {
   "cell_type": "code",
   "execution_count": 105,
   "id": "8c74621f",
   "metadata": {},
   "outputs": [],
   "source": [
    "mcgeezsack = 'was it a DERP rat i saw'"
   ]
  },
  {
   "cell_type": "code",
   "execution_count": 106,
   "id": "13ff1fcc",
   "metadata": {},
   "outputs": [
    {
     "data": {
      "text/plain": [
       "True"
      ]
     },
     "execution_count": 106,
     "metadata": {},
     "output_type": "execute_result"
    }
   ],
   "source": [
    "spacecataz(rumplestiltskin)"
   ]
  },
  {
   "cell_type": "code",
   "execution_count": 107,
   "id": "e072f933",
   "metadata": {},
   "outputs": [
    {
     "data": {
      "text/plain": [
       "False"
      ]
     },
     "execution_count": 107,
     "metadata": {},
     "output_type": "execute_result"
    }
   ],
   "source": [
    "spacecataz(mcgeezsack)"
   ]
  },
  {
   "cell_type": "markdown",
   "id": "d71c566b",
   "metadata": {},
   "source": [
    "WRITE A PYTHON FUNCTION to check whether a string is a pangram or not"
   ]
  },
  {
   "cell_type": "code",
   "execution_count": 108,
   "id": "d7a836b2",
   "metadata": {},
   "outputs": [],
   "source": [
    "ariel = 'my girl wove six dozen plaid jackets before she quit'"
   ]
  },
  {
   "cell_type": "code",
   "execution_count": 125,
   "id": "d772bcdd",
   "metadata": {},
   "outputs": [
    {
     "name": "stdout",
     "output_type": "stream",
     "text": [
      "<module 'string' from '/Users/philhasenkamp/anaconda3/lib/python3.11/string.py'>\n"
     ]
    }
   ],
   "source": [
    "import string\n",
    "\n",
    "def tacocat(ariel,alphabet=string.ascii_lowercase):\n",
    "    \n",
    "    # create a set of the English alphabet\n",
    "    unicorn = set(alphabet)\n",
    "    print(unicorn)\n",
    "    # Remove any spaces from the input string\n",
    "    ariel = ariel.replace(' ','')\n",
    "    # convert into all lowercase\n",
    "    ariel = ariel.lower()\n",
    "    # grab all unique letters from the string in a set()\n",
    "    ariel = set(ariel)\n",
    "    print(ariel)\n",
    "    # check the alphabet set for == to string set input\n",
    "    return ariel == unicorn\n",
    "    "
   ]
  },
  {
   "cell_type": "code",
   "execution_count": 126,
   "id": "fef960e0",
   "metadata": {},
   "outputs": [
    {
     "name": "stdout",
     "output_type": "stream",
     "text": [
      "{'b', 'i', 't', 'c', 'h', 'q', 'n', 's', 'l', 'o', 'z', 'u', 'e', 'x', 'r', 'd', 'w', 'g', 'a', 'j', 'p', 'y', 'f', 'k', 'v', 'm'}\n",
      "{'b', 'i', 't', 'c', 'h', 'q', 'n', 's', 'l', 'o', 'z', 'u', 'e', 'x', 'r', 'd', 'w', 'g', 'a', 'j', 'p', 'y', 'f', 'k', 'v', 'm'}\n"
     ]
    },
    {
     "data": {
      "text/plain": [
       "True"
      ]
     },
     "execution_count": 126,
     "metadata": {},
     "output_type": "execute_result"
    }
   ],
   "source": [
    "tacocat(ariel)"
   ]
  },
  {
   "cell_type": "code",
   "execution_count": 114,
   "id": "dbab2437",
   "metadata": {},
   "outputs": [
    {
     "data": {
      "text/plain": [
       "'abcdefghijklmnopqrstuvwxyz'"
      ]
     },
     "execution_count": 114,
     "metadata": {},
     "output_type": "execute_result"
    }
   ],
   "source": [
    "string.ascii_lowercase"
   ]
  },
  {
   "cell_type": "code",
   "execution_count": null,
   "id": "39fa2c3d",
   "metadata": {},
   "outputs": [],
   "source": []
  },
  {
   "cell_type": "code",
   "execution_count": null,
   "id": "79be61ab",
   "metadata": {},
   "outputs": [],
   "source": []
  }
 ],
 "metadata": {
  "kernelspec": {
   "display_name": "Python 3 (ipykernel)",
   "language": "python",
   "name": "python3"
  },
  "language_info": {
   "codemirror_mode": {
    "name": "ipython",
    "version": 3
   },
   "file_extension": ".py",
   "mimetype": "text/x-python",
   "name": "python",
   "nbconvert_exporter": "python",
   "pygments_lexer": "ipython3",
   "version": "3.11.3"
  }
 },
 "nbformat": 4,
 "nbformat_minor": 5
}
