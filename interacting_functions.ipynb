{
 "cells": [
  {
   "cell_type": "code",
   "execution_count": 2,
   "id": "9cf34527",
   "metadata": {},
   "outputs": [],
   "source": [
    "example = [1,2,3,4,5,6,7]"
   ]
  },
  {
   "cell_type": "code",
   "execution_count": 3,
   "id": "64deab50",
   "metadata": {},
   "outputs": [],
   "source": [
    "from random import shuffle"
   ]
  },
  {
   "cell_type": "code",
   "execution_count": 4,
   "id": "6ee1d020",
   "metadata": {},
   "outputs": [],
   "source": [
    "shuffle(example)"
   ]
  },
  {
   "cell_type": "code",
   "execution_count": 5,
   "id": "95caba4c",
   "metadata": {},
   "outputs": [
    {
     "data": {
      "text/plain": [
       "[3, 5, 4, 1, 7, 6, 2]"
      ]
     },
     "execution_count": 5,
     "metadata": {},
     "output_type": "execute_result"
    }
   ],
   "source": [
    "example"
   ]
  },
  {
   "cell_type": "code",
   "execution_count": 6,
   "id": "f3a1648f",
   "metadata": {},
   "outputs": [],
   "source": [
    "def mixup_numbers(myNumbers):\n",
    "    shuffle(myNumbers)\n",
    "    return myNumbers"
   ]
  },
  {
   "cell_type": "code",
   "execution_count": 7,
   "id": "8eea30cd",
   "metadata": {},
   "outputs": [],
   "source": [
    "voila = mixup_numbers(example)"
   ]
  },
  {
   "cell_type": "code",
   "execution_count": 8,
   "id": "4ef20c9e",
   "metadata": {},
   "outputs": [
    {
     "data": {
      "text/plain": [
       "[1, 3, 4, 7, 2, 6, 5]"
      ]
     },
     "execution_count": 8,
     "metadata": {},
     "output_type": "execute_result"
    }
   ],
   "source": [
    "voila"
   ]
  },
  {
   "cell_type": "code",
   "execution_count": 9,
   "id": "1bc8fc73",
   "metadata": {},
   "outputs": [],
   "source": [
    "game_list = [' ','O',' ']"
   ]
  },
  {
   "cell_type": "code",
   "execution_count": 10,
   "id": "a131bc5f",
   "metadata": {},
   "outputs": [
    {
     "data": {
      "text/plain": [
       "[' ', ' ', 'O']"
      ]
     },
     "execution_count": 10,
     "metadata": {},
     "output_type": "execute_result"
    }
   ],
   "source": [
    "mixup_numbers(game_list)"
   ]
  },
  {
   "cell_type": "code",
   "execution_count": 13,
   "id": "b251ae29",
   "metadata": {},
   "outputs": [],
   "source": [
    "def your_guess():\n",
    "    \n",
    "    pick=''\n",
    "    \n",
    "    while pick not in ['0','1','2']:\n",
    "        pick = input('Guess a number: 0, 1, or 2')\n",
    "        \n",
    "    return int(pick)"
   ]
  },
  {
   "cell_type": "code",
   "execution_count": 14,
   "id": "1fca85db",
   "metadata": {},
   "outputs": [
    {
     "name": "stdout",
     "output_type": "stream",
     "text": [
      "Guess a number: 0, 1, or 22\n"
     ]
    },
    {
     "data": {
      "text/plain": [
       "2"
      ]
     },
     "execution_count": 14,
     "metadata": {},
     "output_type": "execute_result"
    }
   ],
   "source": [
    "your_guess()"
   ]
  },
  {
   "cell_type": "code",
   "execution_count": 15,
   "id": "7299ca05",
   "metadata": {},
   "outputs": [
    {
     "name": "stdout",
     "output_type": "stream",
     "text": [
      "Guess a number: 0, 1, or 22\n"
     ]
    }
   ],
   "source": [
    "myCup = your_guess()"
   ]
  },
  {
   "cell_type": "code",
   "execution_count": 16,
   "id": "7ea59a85",
   "metadata": {},
   "outputs": [
    {
     "data": {
      "text/plain": [
       "2"
      ]
     },
     "execution_count": 16,
     "metadata": {},
     "output_type": "execute_result"
    }
   ],
   "source": [
    "myCup"
   ]
  },
  {
   "cell_type": "code",
   "execution_count": 17,
   "id": "f78cbb11",
   "metadata": {},
   "outputs": [],
   "source": [
    "def check_pick(game_list,your_guess):\n",
    "    if game_list[pick] == 'O':\n",
    "        print('correct')\n",
    "    else:\n",
    "        print('wrong!!!!!')\n",
    "        print(game_list)"
   ]
  },
  {
   "cell_type": "code",
   "execution_count": 19,
   "id": "45d950d3",
   "metadata": {},
   "outputs": [
    {
     "name": "stdout",
     "output_type": "stream",
     "text": [
      "Guess a number: 0, 1, or 22\n",
      "wrong!!!!!\n",
      "['O', ' ', ' ']\n"
     ]
    }
   ],
   "source": [
    "# initial list\n",
    "\n",
    "game_list = [' ','O',' ']\n",
    "\n",
    "# shuffle the listgit s\n",
    "\n",
    "shuffled_list = mixup_numbers(game_list)\n",
    "\n",
    "# my guess\n",
    "\n",
    "pick = your_guess()\n",
    "\n",
    "# check the guess\n",
    "\n",
    "check_pick(shuffled_list,pick)\n"
   ]
  },
  {
   "cell_type": "code",
   "execution_count": null,
   "id": "bf039491",
   "metadata": {},
   "outputs": [],
   "source": []
  }
 ],
 "metadata": {
  "kernelspec": {
   "display_name": "Python 3 (ipykernel)",
   "language": "python",
   "name": "python3"
  },
  "language_info": {
   "codemirror_mode": {
    "name": "ipython",
    "version": 3
   },
   "file_extension": ".py",
   "mimetype": "text/x-python",
   "name": "python",
   "nbconvert_exporter": "python",
   "pygments_lexer": "ipython3",
   "version": "3.11.3"
  }
 },
 "nbformat": 4,
 "nbformat_minor": 5
}
