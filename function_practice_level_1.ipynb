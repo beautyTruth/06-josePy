{
 "cells": [
  {
   "cell_type": "markdown",
   "id": "51388964",
   "metadata": {},
   "source": [
    "OLD MACDONALD: write a function that capitalizes the first and fourth letters of a name"
   ]
  },
  {
   "cell_type": "markdown",
   "id": "51239626",
   "metadata": {},
   "source": [
    "old_macdonald('macdonald') --> MacDonald"
   ]
  },
  {
   "cell_type": "code",
   "execution_count": 13,
   "id": "89cdbf40",
   "metadata": {},
   "outputs": [],
   "source": [
    "def old_mackenzie(kenzie):\n",
    "    \n",
    "#    first_letter = kenzie[0]\n",
    "#    between_one_four = kenzie[1:3]\n",
    "#    fourth_letter = kenzie[3]\n",
    "#    the_remainder = kenzie[4:]\n",
    "\n",
    "    first_part = kenzie[:3]\n",
    "    second_part = kenzie[3:]\n",
    "    \n",
    "#    return first_letter.upper() + between_one_four + fourth_letter.upper() + the_remainder\n",
    "\n",
    "    return first_part.capitalize() + second_part.capitalize()\n",
    "    "
   ]
  },
  {
   "cell_type": "code",
   "execution_count": 14,
   "id": "15dc5c93",
   "metadata": {},
   "outputs": [
    {
     "data": {
      "text/plain": [
       "'HasEnkamp'"
      ]
     },
     "execution_count": 14,
     "metadata": {},
     "output_type": "execute_result"
    }
   ],
   "source": [
    "old_mackenzie('hasenkamp')"
   ]
  },
  {
   "cell_type": "code",
   "execution_count": 15,
   "id": "c4bb2260",
   "metadata": {},
   "outputs": [
    {
     "data": {
      "text/plain": [
       "'PeaChesforme'"
      ]
     },
     "execution_count": 15,
     "metadata": {},
     "output_type": "execute_result"
    }
   ],
   "source": [
    "old_mackenzie('peachesforme')"
   ]
  },
  {
   "cell_type": "code",
   "execution_count": null,
   "id": "5cbbd032",
   "metadata": {},
   "outputs": [],
   "source": []
  }
 ],
 "metadata": {
  "kernelspec": {
   "display_name": "Python 3 (ipykernel)",
   "language": "python",
   "name": "python3"
  },
  "language_info": {
   "codemirror_mode": {
    "name": "ipython",
    "version": 3
   },
   "file_extension": ".py",
   "mimetype": "text/x-python",
   "name": "python",
   "nbconvert_exporter": "python",
   "pygments_lexer": "ipython3",
   "version": "3.11.3"
  }
 },
 "nbformat": 4,
 "nbformat_minor": 5
}
