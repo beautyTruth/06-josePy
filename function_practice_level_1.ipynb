{
 "cells": [
  {
   "cell_type": "markdown",
   "id": "98361e8d",
   "metadata": {},
   "source": [
    "OLD MACDONALD: write a function that capitalizes the first and fourth letters of a name"
   ]
  },
  {
   "cell_type": "markdown",
   "id": "5a4a5501",
   "metadata": {},
   "source": [
    "old_macdonald('macdonald') --> MacDonald"
   ]
  },
  {
   "cell_type": "code",
   "execution_count": 13,
   "id": "3826bdd9",
   "metadata": {},
   "outputs": [],
   "source": [
    "def old_mackenzie(kenzie):\n",
    "    \n",
    "#    first_letter = kenzie[0]\n",
    "#    between_one_four = kenzie[1:3]\n",
    "#    fourth_letter = kenzie[3]\n",
    "#    the_remainder = kenzie[4:]\n",
    "\n",
    "    first_part = kenzie[:3]\n",
    "    second_part = kenzie[3:]\n",
    "    \n",
    "#    return first_letter.upper() + between_one_four + fourth_letter.upper() + the_remainder\n",
    "\n",
    "    return first_part.capitalize() + second_part.capitalize()\n",
    "    "
   ]
  },
  {
   "cell_type": "code",
   "execution_count": 14,
   "id": "f1f8432a",
   "metadata": {},
   "outputs": [
    {
     "data": {
      "text/plain": [
       "'HasEnkamp'"
      ]
     },
     "execution_count": 14,
     "metadata": {},
     "output_type": "execute_result"
    }
   ],
   "source": [
    "old_mackenzie('hasenkamp')"
   ]
  },
  {
   "cell_type": "code",
   "execution_count": 15,
   "id": "c966bb0a",
   "metadata": {},
   "outputs": [
    {
     "data": {
      "text/plain": [
       "'PeaChesforme'"
      ]
     },
     "execution_count": 15,
     "metadata": {},
     "output_type": "execute_result"
    }
   ],
   "source": [
    "old_mackenzie('peachesforme')"
   ]
  },
  {
   "cell_type": "markdown",
   "id": "510636c6",
   "metadata": {},
   "source": [
    "MASTER YODA: Given a string that is in sentence format, return a string with the words of that sentence reversed"
   ]
  },
  {
   "cell_type": "markdown",
   "id": "965c05bc",
   "metadata": {},
   "source": [
    "master_yoda('I am home') --> 'home am I'\n",
    "\n",
    "master_yoda('We are ready') -- 'ready are We'"
   ]
  },
  {
   "cell_type": "code",
   "execution_count": 51,
   "id": "fcaafb75",
   "metadata": {},
   "outputs": [],
   "source": [
    "def gorgeous_miriam(peaches):\n",
    "    peach_basket = peaches.split()\n",
    "    upside_down_basket = peach_basket[::-1]\n",
    "    return ' '.join(upside_down_basket)"
   ]
  },
  {
   "cell_type": "code",
   "execution_count": 52,
   "id": "26bacece",
   "metadata": {},
   "outputs": [
    {
     "data": {
      "text/plain": [
       "'peach my Eat'"
      ]
     },
     "execution_count": 52,
     "metadata": {},
     "output_type": "execute_result"
    }
   ],
   "source": [
    "gorgeous_miriam('Eat my peach')"
   ]
  },
  {
   "cell_type": "code",
   "execution_count": 53,
   "id": "51bd27d2",
   "metadata": {},
   "outputs": [
    {
     "data": {
      "text/plain": [
       "'cherries my Caress'"
      ]
     },
     "execution_count": 53,
     "metadata": {},
     "output_type": "execute_result"
    }
   ],
   "source": [
    "gorgeous_miriam('Caress my cherries')"
   ]
  },
  {
   "cell_type": "code",
   "execution_count": 54,
   "id": "212517f5",
   "metadata": {},
   "outputs": [],
   "source": [
    "my_peaches = ['everybody','must','meditate']"
   ]
  },
  {
   "cell_type": "code",
   "execution_count": 55,
   "id": "6abda97a",
   "metadata": {},
   "outputs": [
    {
     "data": {
      "text/plain": [
       "'everybody pf_must pf_meditate'"
      ]
     },
     "execution_count": 55,
     "metadata": {},
     "output_type": "execute_result"
    }
   ],
   "source": [
    "' pf_'.join(my_peaches)"
   ]
  },
  {
   "cell_type": "markdown",
   "id": "3aadf4ed",
   "metadata": {},
   "source": [
    "ALMOST THERE: given an integer n, return True if n is within 10 of either 100 or 200"
   ]
  },
  {
   "cell_type": "markdown",
   "id": "80e1b7ef",
   "metadata": {},
   "source": [
    "almost_there(99) --> True\n",
    "almost_there(30) --> False\n",
    "almost_there(201) --> True\n",
    "almost_there(132) --> False"
   ]
  },
  {
   "cell_type": "markdown",
   "id": "3eef50ba",
   "metadata": {},
   "source": [
    "abs(number) returns the absolute value of a number"
   ]
  },
  {
   "cell_type": "code",
   "execution_count": 64,
   "id": "541c6ad2",
   "metadata": {},
   "outputs": [],
   "source": [
    "def almost_there(peach):\n",
    "    return (abs(100-peach)<=10) or (abs(200-peach)<=10)"
   ]
  },
  {
   "cell_type": "code",
   "execution_count": 65,
   "id": "bbc795e6",
   "metadata": {},
   "outputs": [
    {
     "data": {
      "text/plain": [
       "False"
      ]
     },
     "execution_count": 65,
     "metadata": {},
     "output_type": "execute_result"
    }
   ],
   "source": [
    "almost_there(88)"
   ]
  },
  {
   "cell_type": "code",
   "execution_count": 66,
   "id": "36fe25d5",
   "metadata": {},
   "outputs": [
    {
     "data": {
      "text/plain": [
       "True"
      ]
     },
     "execution_count": 66,
     "metadata": {},
     "output_type": "execute_result"
    }
   ],
   "source": [
    "almost_there(101)"
   ]
  },
  {
   "cell_type": "code",
   "execution_count": 67,
   "id": "24b41ca3",
   "metadata": {},
   "outputs": [
    {
     "data": {
      "text/plain": [
       "False"
      ]
     },
     "execution_count": 67,
     "metadata": {},
     "output_type": "execute_result"
    }
   ],
   "source": [
    "almost_there(150)"
   ]
  },
  {
   "cell_type": "code",
   "execution_count": 68,
   "id": "b7f44aa9",
   "metadata": {},
   "outputs": [
    {
     "data": {
      "text/plain": [
       "True"
      ]
     },
     "execution_count": 68,
     "metadata": {},
     "output_type": "execute_result"
    }
   ],
   "source": [
    "almost_there(207)"
   ]
  },
  {
   "cell_type": "code",
   "execution_count": null,
   "id": "17d32388",
   "metadata": {},
   "outputs": [],
   "source": []
  }
 ],
 "metadata": {
  "kernelspec": {
   "display_name": "Python 3 (ipykernel)",
   "language": "python",
   "name": "python3"
  },
  "language_info": {
   "codemirror_mode": {
    "name": "ipython",
    "version": 3
   },
   "file_extension": ".py",
   "mimetype": "text/x-python",
   "name": "python",
   "nbconvert_exporter": "python",
   "pygments_lexer": "ipython3",
   "version": "3.11.3"
  }
 },
 "nbformat": 4,
 "nbformat_minor": 5
}
