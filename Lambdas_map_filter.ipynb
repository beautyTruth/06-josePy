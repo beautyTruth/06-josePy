{
 "cells": [
  {
   "cell_type": "code",
   "execution_count": 1,
   "id": "b0b1c3e2",
   "metadata": {},
   "outputs": [],
   "source": [
    "def miriam_peach(cherries):\n",
    "    return cherries**2"
   ]
  },
  {
   "cell_type": "code",
   "execution_count": 2,
   "id": "9befe70a",
   "metadata": {},
   "outputs": [],
   "source": [
    "my_cherries = [7,77,777,7777,77777]"
   ]
  },
  {
   "cell_type": "code",
   "execution_count": 3,
   "id": "56bdc171",
   "metadata": {},
   "outputs": [
    {
     "name": "stdout",
     "output_type": "stream",
     "text": [
      "49\n",
      "5929\n",
      "603729\n",
      "60481729\n",
      "6049261729\n"
     ]
    }
   ],
   "source": [
    "for honey in map(miriam_peach,my_cherries):\n",
    "    print(honey)"
   ]
  },
  {
   "cell_type": "code",
   "execution_count": 4,
   "id": "9362e70a",
   "metadata": {},
   "outputs": [
    {
     "data": {
      "text/plain": [
       "[49, 5929, 603729, 60481729, 6049261729]"
      ]
     },
     "execution_count": 4,
     "metadata": {},
     "output_type": "execute_result"
    }
   ],
   "source": [
    "list(map(miriam_peach,my_cherries))"
   ]
  },
  {
   "cell_type": "code",
   "execution_count": 7,
   "id": "014ce369",
   "metadata": {},
   "outputs": [],
   "source": [
    "def pearl_jam(jeremy):\n",
    "    if len(jeremy)%2 == 0:\n",
    "        return 'EVENFLOW'\n",
    "    else:\n",
    "        return jeremy[0]"
   ]
  },
  {
   "cell_type": "code",
   "execution_count": 11,
   "id": "6c64ce84",
   "metadata": {},
   "outputs": [
    {
     "data": {
      "text/plain": [
       "'EVENFLOW'"
      ]
     },
     "execution_count": 11,
     "metadata": {},
     "output_type": "execute_result"
    }
   ],
   "source": [
    "pearl_jam('Walking on a Dream')"
   ]
  },
  {
   "cell_type": "code",
   "execution_count": 12,
   "id": "f0b2e10a",
   "metadata": {},
   "outputs": [
    {
     "data": {
      "text/plain": [
       "'I'"
      ]
     },
     "execution_count": 12,
     "metadata": {},
     "output_type": "execute_result"
    }
   ],
   "source": [
    "pearl_jam('Ice on the Dune')"
   ]
  },
  {
   "cell_type": "code",
   "execution_count": 13,
   "id": "af9626e8",
   "metadata": {},
   "outputs": [],
   "source": [
    "favorite_songs = ['Leave a Trace','Ship to Wreck','Stolen Dance','Midnight City','Oblivion']"
   ]
  },
  {
   "cell_type": "code",
   "execution_count": 14,
   "id": "8f18bfa7",
   "metadata": {},
   "outputs": [
    {
     "data": {
      "text/plain": [
       "['L', 'S', 'EVENFLOW', 'M', 'EVENFLOW']"
      ]
     },
     "execution_count": 14,
     "metadata": {},
     "output_type": "execute_result"
    }
   ],
   "source": [
    "list(map(pearl_jam,favorite_songs))"
   ]
  },
  {
   "cell_type": "code",
   "execution_count": 15,
   "id": "846863e3",
   "metadata": {},
   "outputs": [],
   "source": [
    "def bootie_is_good(peaches):\n",
    "    return peaches%2==0"
   ]
  },
  {
   "cell_type": "code",
   "execution_count": 16,
   "id": "dd0ec987",
   "metadata": {},
   "outputs": [],
   "source": [
    "selected_booties = [1,2,3,4,5,6,7,8,9,10,11,12]"
   ]
  },
  {
   "cell_type": "code",
   "execution_count": 17,
   "id": "f87a9428",
   "metadata": {},
   "outputs": [
    {
     "data": {
      "text/plain": [
       "[2, 4, 6, 8, 10, 12]"
      ]
     },
     "execution_count": 17,
     "metadata": {},
     "output_type": "execute_result"
    }
   ],
   "source": [
    "list(filter(bootie_is_good,selected_booties))"
   ]
  },
  {
   "cell_type": "code",
   "execution_count": 18,
   "id": "5088db80",
   "metadata": {},
   "outputs": [
    {
     "name": "stdout",
     "output_type": "stream",
     "text": [
      "2\n",
      "4\n",
      "6\n",
      "8\n",
      "10\n",
      "12\n"
     ]
    }
   ],
   "source": [
    "for peaches in filter(bootie_is_good,selected_booties):\n",
    "    print(peaches)"
   ]
  },
  {
   "cell_type": "code",
   "execution_count": 25,
   "id": "5a78e37d",
   "metadata": {},
   "outputs": [],
   "source": [
    "santa_cruz = lambda otters: otters ** 2"
   ]
  },
  {
   "cell_type": "code",
   "execution_count": 27,
   "id": "07916d7f",
   "metadata": {},
   "outputs": [
    {
     "data": {
      "text/plain": [
       "49"
      ]
     },
     "execution_count": 27,
     "metadata": {},
     "output_type": "execute_result"
    }
   ],
   "source": [
    "santa_cruz(7)"
   ]
  },
  {
   "cell_type": "code",
   "execution_count": 28,
   "id": "6213a97c",
   "metadata": {},
   "outputs": [
    {
     "data": {
      "text/plain": [
       "[49, 5929, 603729, 60481729, 6049261729]"
      ]
     },
     "execution_count": 28,
     "metadata": {},
     "output_type": "execute_result"
    }
   ],
   "source": [
    "list(map(lambda otters:otters**2,my_cherries))"
   ]
  },
  {
   "cell_type": "code",
   "execution_count": 29,
   "id": "d7f9215e",
   "metadata": {},
   "outputs": [
    {
     "data": {
      "text/plain": [
       "[2, 4, 6, 8, 10, 12]"
      ]
     },
     "execution_count": 29,
     "metadata": {},
     "output_type": "execute_result"
    }
   ],
   "source": [
    "list(filter(lambda peaches: peaches%2==0,selected_booties))"
   ]
  },
  {
   "cell_type": "code",
   "execution_count": 30,
   "id": "270d511b",
   "metadata": {},
   "outputs": [
    {
     "data": {
      "text/plain": [
       "['Leave a Trace', 'Ship to Wreck', 'Stolen Dance', 'Midnight City', 'Oblivion']"
      ]
     },
     "execution_count": 30,
     "metadata": {},
     "output_type": "execute_result"
    }
   ],
   "source": [
    "favorite_songs"
   ]
  },
  {
   "cell_type": "code",
   "execution_count": 33,
   "id": "26ac386c",
   "metadata": {},
   "outputs": [
    {
     "data": {
      "text/plain": [
       "['ecarT a evaeL', 'kcerW ot pihS', 'ecnaD nelotS', 'ytiC thgindiM', 'noivilbO']"
      ]
     },
     "execution_count": 33,
     "metadata": {},
     "output_type": "execute_result"
    }
   ],
   "source": [
    "list(map(lambda faves:faves[::-1],favorite_songs))"
   ]
  },
  {
   "cell_type": "code",
   "execution_count": null,
   "id": "78788ecb",
   "metadata": {},
   "outputs": [],
   "source": []
  }
 ],
 "metadata": {
  "kernelspec": {
   "display_name": "Python 3 (ipykernel)",
   "language": "python",
   "name": "python3"
  },
  "language_info": {
   "codemirror_mode": {
    "name": "ipython",
    "version": 3
   },
   "file_extension": ".py",
   "mimetype": "text/x-python",
   "name": "python",
   "nbconvert_exporter": "python",
   "pygments_lexer": "ipython3",
   "version": "3.11.3"
  }
 },
 "nbformat": 4,
 "nbformat_minor": 5
}
