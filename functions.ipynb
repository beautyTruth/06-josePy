{
 "cells": [
  {
   "cell_type": "code",
   "execution_count": 3,
   "id": "a63873ff",
   "metadata": {},
   "outputs": [],
   "source": [
    "def eat_peach():\n",
    "    print('amber')\n",
    "    print('is')\n",
    "    print('the')"
   ]
  },
  {
   "cell_type": "code",
   "execution_count": 4,
   "id": "61d608de",
   "metadata": {},
   "outputs": [
    {
     "name": "stdout",
     "output_type": "stream",
     "text": [
      "amber\n",
      "is\n",
      "the\n"
     ]
    }
   ],
   "source": [
    "eat_peach()"
   ]
  },
  {
   "cell_type": "code",
   "execution_count": 10,
   "id": "0d755ca3",
   "metadata": {},
   "outputs": [],
   "source": [
    "def eat_peach(jiggle):\n",
    "    print(f'Eat {jiggle} peach')"
   ]
  },
  {
   "cell_type": "code",
   "execution_count": 11,
   "id": "dfd663b4",
   "metadata": {},
   "outputs": [
    {
     "name": "stdout",
     "output_type": "stream",
     "text": [
      "Eat Miriam peach\n"
     ]
    }
   ],
   "source": [
    "eat_peach('Miriam')"
   ]
  },
  {
   "cell_type": "code",
   "execution_count": 12,
   "id": "dc4070a9",
   "metadata": {},
   "outputs": [],
   "source": [
    "def eat_cherries(bounce=\"default\"):\n",
    "    print(f'I love {bounce} cherries')"
   ]
  },
  {
   "cell_type": "code",
   "execution_count": 13,
   "id": "649aff41",
   "metadata": {},
   "outputs": [
    {
     "name": "stdout",
     "output_type": "stream",
     "text": [
      "I love default cherries\n"
     ]
    }
   ],
   "source": [
    "eat_cherries()"
   ]
  },
  {
   "cell_type": "code",
   "execution_count": 14,
   "id": "5078a897",
   "metadata": {},
   "outputs": [],
   "source": [
    "def add_peaches(peach,cherry):\n",
    "    return peach+cherry"
   ]
  },
  {
   "cell_type": "code",
   "execution_count": 15,
   "id": "660c73c0",
   "metadata": {},
   "outputs": [],
   "source": [
    "heaven = add_peaches(7,77)"
   ]
  },
  {
   "cell_type": "code",
   "execution_count": 16,
   "id": "bdfc6e52",
   "metadata": {},
   "outputs": [
    {
     "data": {
      "text/plain": [
       "84"
      ]
     },
     "execution_count": 16,
     "metadata": {},
     "output_type": "execute_result"
    }
   ],
   "source": [
    "heaven"
   ]
  },
  {
   "cell_type": "code",
   "execution_count": 17,
   "id": "9bcb360e",
   "metadata": {},
   "outputs": [
    {
     "data": {
      "text/plain": [
       "126"
      ]
     },
     "execution_count": 17,
     "metadata": {},
     "output_type": "execute_result"
    }
   ],
   "source": [
    "heaven + 42"
   ]
  },
  {
   "cell_type": "code",
   "execution_count": 18,
   "id": "0ffb949e",
   "metadata": {},
   "outputs": [],
   "source": [
    "def print_result(a,b):\n",
    "    print(a+b)"
   ]
  },
  {
   "cell_type": "code",
   "execution_count": 19,
   "id": "e52bb018",
   "metadata": {},
   "outputs": [],
   "source": [
    "def return_result(a,b):\n",
    "    return a+b"
   ]
  },
  {
   "cell_type": "code",
   "execution_count": 20,
   "id": "ef46f07b",
   "metadata": {},
   "outputs": [
    {
     "name": "stdout",
     "output_type": "stream",
     "text": [
      "84\n"
     ]
    }
   ],
   "source": [
    "result = print_result(7,77)"
   ]
  },
  {
   "cell_type": "code",
   "execution_count": 21,
   "id": "8fb28b44",
   "metadata": {},
   "outputs": [],
   "source": [
    "result"
   ]
  },
  {
   "cell_type": "code",
   "execution_count": 22,
   "id": "b1d50c46",
   "metadata": {},
   "outputs": [
    {
     "data": {
      "text/plain": [
       "NoneType"
      ]
     },
     "execution_count": 22,
     "metadata": {},
     "output_type": "execute_result"
    }
   ],
   "source": [
    "type(result)"
   ]
  },
  {
   "cell_type": "code",
   "execution_count": 23,
   "id": "b0a47073",
   "metadata": {},
   "outputs": [],
   "source": [
    "result = return_result(7,77)"
   ]
  },
  {
   "cell_type": "code",
   "execution_count": 24,
   "id": "1d6d85f6",
   "metadata": {},
   "outputs": [
    {
     "data": {
      "text/plain": [
       "84"
      ]
     },
     "execution_count": 24,
     "metadata": {},
     "output_type": "execute_result"
    }
   ],
   "source": [
    "result"
   ]
  },
  {
   "cell_type": "code",
   "execution_count": 25,
   "id": "32089f62",
   "metadata": {},
   "outputs": [
    {
     "data": {
      "text/plain": [
       "int"
      ]
     },
     "execution_count": 25,
     "metadata": {},
     "output_type": "execute_result"
    }
   ],
   "source": [
    "type(result)"
   ]
  },
  {
   "cell_type": "markdown",
   "id": "d52991c1",
   "metadata": {},
   "source": [
    "Remember to make sure the input from users is the desired data type for the function"
   ]
  },
  {
   "cell_type": "code",
   "execution_count": null,
   "id": "894d4ecb",
   "metadata": {},
   "outputs": [],
   "source": []
  }
 ],
 "metadata": {
  "kernelspec": {
   "display_name": "Python 3 (ipykernel)",
   "language": "python",
   "name": "python3"
  },
  "language_info": {
   "codemirror_mode": {
    "name": "ipython",
    "version": 3
   },
   "file_extension": ".py",
   "mimetype": "text/x-python",
   "name": "python",
   "nbconvert_exporter": "python",
   "pygments_lexer": "ipython3",
   "version": "3.11.3"
  }
 },
 "nbformat": 4,
 "nbformat_minor": 5
}
