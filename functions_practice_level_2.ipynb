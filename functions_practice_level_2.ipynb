{
 "cells": [
  {
   "cell_type": "markdown",
   "id": "4f10780f",
   "metadata": {},
   "source": [
    "FIND 77: given a list of ints, return True if the array contains a 7 next to a 7 somewhere"
   ]
  },
  {
   "cell_type": "raw",
   "id": "d1e4bccd",
   "metadata": {},
   "source": [
    "peach_777([1,7,7,1]) -- True"
   ]
  },
  {
   "cell_type": "raw",
   "id": "e0afeeee",
   "metadata": {},
   "source": [
    "peach_777([1,7,1,7]) -- False"
   ]
  },
  {
   "cell_type": "raw",
   "id": "e58f6f99",
   "metadata": {},
   "source": [
    "peach_777([7,7,1,1]) -- True"
   ]
  },
  {
   "cell_type": "code",
   "execution_count": 13,
   "id": "97dfa3f9",
   "metadata": {},
   "outputs": [],
   "source": [
    "def peach_777(peaches):\n",
    "    \n",
    "    for cherry in range(0,len(peaches)-1):\n",
    "        if peaches[cherry:cherry+2] == [7,7]:\n",
    "#        if peaches[cherry] == 7 and peaches[cherry+1] == 7:\n",
    "            return True\n",
    "        \n",
    "    return False"
   ]
  },
  {
   "cell_type": "code",
   "execution_count": 14,
   "id": "deadce2d",
   "metadata": {},
   "outputs": [
    {
     "data": {
      "text/plain": [
       "True"
      ]
     },
     "execution_count": 14,
     "metadata": {},
     "output_type": "execute_result"
    }
   ],
   "source": [
    "peach_777([1,7,7,1])"
   ]
  },
  {
   "cell_type": "code",
   "execution_count": 15,
   "id": "75bb0ddd",
   "metadata": {},
   "outputs": [
    {
     "data": {
      "text/plain": [
       "False"
      ]
     },
     "execution_count": 15,
     "metadata": {},
     "output_type": "execute_result"
    }
   ],
   "source": [
    "peach_777([1,7,1,7])"
   ]
  },
  {
   "cell_type": "code",
   "execution_count": 16,
   "id": "e4359fec",
   "metadata": {},
   "outputs": [
    {
     "data": {
      "text/plain": [
       "True"
      ]
     },
     "execution_count": 16,
     "metadata": {},
     "output_type": "execute_result"
    }
   ],
   "source": [
    "peach_777([7,7,1,1])"
   ]
  },
  {
   "cell_type": "code",
   "execution_count": 17,
   "id": "8daf60ba",
   "metadata": {},
   "outputs": [
    {
     "data": {
      "text/plain": [
       "True"
      ]
     },
     "execution_count": 17,
     "metadata": {},
     "output_type": "execute_result"
    }
   ],
   "source": [
    "peach_777([1,1,1,1,1,1,7,1,1,1,1,1,7,1,1,1,1,1,7,7])"
   ]
  },
  {
   "cell_type": "code",
   "execution_count": 18,
   "id": "ca920b4b",
   "metadata": {},
   "outputs": [
    {
     "data": {
      "text/plain": [
       "False"
      ]
     },
     "execution_count": 18,
     "metadata": {},
     "output_type": "execute_result"
    }
   ],
   "source": [
    "peach_777([1,1,1,1,1,1,7,1,1,1,1,1,7,1,1,1,1,7,1,7])"
   ]
  },
  {
   "cell_type": "markdown",
   "id": "a075ec14",
   "metadata": {},
   "source": [
    "PAPER DOLL: Given a string, return a string where for every character in the original, there are three characters"
   ]
  },
  {
   "cell_type": "markdown",
   "id": "9a6494cb",
   "metadata": {},
   "source": [
    "paper_doll('hello') --> 'hhheeellllllooo'"
   ]
  },
  {
   "cell_type": "markdown",
   "id": "03cf9d96",
   "metadata": {},
   "source": [
    "paper_doll('mississippi') --> 'mmmiiissssssiiissssssiiippppppiii'"
   ]
  },
  {
   "cell_type": "code",
   "execution_count": 32,
   "id": "0ef9bd97",
   "metadata": {},
   "outputs": [],
   "source": [
    "def miriam_peach(peaches):\n",
    "    peach_basket = ''\n",
    "    \n",
    "    for cherry in peaches:\n",
    "        \n",
    "        if cherry == ' ':\n",
    "            peach_basket += ' the crop duster '\n",
    "        else:\n",
    "            peach_basket += cherry*3\n",
    "        # peach_basket += cherry+cherry+cherry\n",
    "        \n",
    "    return peach_basket\n",
    "        "
   ]
  },
  {
   "cell_type": "code",
   "execution_count": 33,
   "id": "a52c8764",
   "metadata": {},
   "outputs": [
    {
     "data": {
      "text/plain": [
       "'hhhiiippppppooopppoootttaaammmuuusss'"
      ]
     },
     "execution_count": 33,
     "metadata": {},
     "output_type": "execute_result"
    }
   ],
   "source": [
    "miriam_peach('hippopotamus')"
   ]
  },
  {
   "cell_type": "code",
   "execution_count": 34,
   "id": "7e87b409",
   "metadata": {},
   "outputs": [
    {
     "data": {
      "text/plain": [
       "'pppoooooopppyyy the crop duster fffeeerrrggguuussssssooonnn'"
      ]
     },
     "execution_count": 34,
     "metadata": {},
     "output_type": "execute_result"
    }
   ],
   "source": [
    "miriam_peach('poopy fergusson')"
   ]
  },
  {
   "cell_type": "markdown",
   "id": "19656146",
   "metadata": {},
   "source": [
    "BLACKJACK: given three integers between 1 and 11, if their sum is less than or equal to 21, return their sum. if their sum exceeds 21 *and* there's an 11, reduce the total sum by 10. Finally, if the sum (even after adjustment) exceeds 21, return 'BUST'"
   ]
  },
  {
   "cell_type": "raw",
   "id": "f429c1e8",
   "metadata": {},
   "source": [
    "blackjack(5,6,7) --> 18\n",
    "blackjack(9,9,9) --> 'BUST'\n",
    "blackjack(9,9,11) --> 18"
   ]
  },
  {
   "cell_type": "code",
   "execution_count": 75,
   "id": "af4ddead",
   "metadata": {},
   "outputs": [],
   "source": [
    "def miriam_cherries(b,l,t):\n",
    "    \n",
    "    print(sum([b,l,t]))\n",
    "    \n",
    "    if sum([b,l,t]) <= 21:\n",
    "        return sum([b,l,t])\n",
    "    elif 11 in [b,l,t] and sum([b,l,t])-10 <= 21:\n",
    "        return sum([b,l,t])-10\n",
    "    else: \n",
    "        return 'BUSTED'"
   ]
  },
  {
   "cell_type": "code",
   "execution_count": 76,
   "id": "e08a7f94",
   "metadata": {},
   "outputs": [
    {
     "name": "stdout",
     "output_type": "stream",
     "text": [
      "21\n"
     ]
    },
    {
     "data": {
      "text/plain": [
       "21"
      ]
     },
     "execution_count": 76,
     "metadata": {},
     "output_type": "execute_result"
    }
   ],
   "source": [
    "miriam_cherries(6,7,8)"
   ]
  },
  {
   "cell_type": "code",
   "execution_count": 77,
   "id": "199412b7",
   "metadata": {},
   "outputs": [
    {
     "name": "stdout",
     "output_type": "stream",
     "text": [
      "27\n"
     ]
    },
    {
     "data": {
      "text/plain": [
       "'BUSTED'"
      ]
     },
     "execution_count": 77,
     "metadata": {},
     "output_type": "execute_result"
    }
   ],
   "source": [
    "miriam_cherries(9,9,9)"
   ]
  },
  {
   "cell_type": "code",
   "execution_count": 78,
   "id": "f615688a",
   "metadata": {},
   "outputs": [
    {
     "name": "stdout",
     "output_type": "stream",
     "text": [
      "29\n"
     ]
    },
    {
     "data": {
      "text/plain": [
       "19"
      ]
     },
     "execution_count": 78,
     "metadata": {},
     "output_type": "execute_result"
    }
   ],
   "source": [
    "miriam_cherries(9,9,11)"
   ]
  },
  {
   "cell_type": "code",
   "execution_count": 79,
   "id": "ce08cfdf",
   "metadata": {},
   "outputs": [
    {
     "name": "stdout",
     "output_type": "stream",
     "text": [
      "21\n"
     ]
    },
    {
     "data": {
      "text/plain": [
       "21"
      ]
     },
     "execution_count": 79,
     "metadata": {},
     "output_type": "execute_result"
    }
   ],
   "source": [
    "miriam_cherries(7,7,7)"
   ]
  },
  {
   "cell_type": "code",
   "execution_count": 80,
   "id": "f24e9875",
   "metadata": {},
   "outputs": [
    {
     "name": "stdout",
     "output_type": "stream",
     "text": [
      "22\n"
     ]
    },
    {
     "data": {
      "text/plain": [
       "'BUSTED'"
      ]
     },
     "execution_count": 80,
     "metadata": {},
     "output_type": "execute_result"
    }
   ],
   "source": [
    "miriam_cherries(7,7,8)"
   ]
  },
  {
   "cell_type": "code",
   "execution_count": 87,
   "id": "67b91e18",
   "metadata": {},
   "outputs": [
    {
     "name": "stdout",
     "output_type": "stream",
     "text": [
      "20\n"
     ]
    },
    {
     "data": {
      "text/plain": [
       "20"
      ]
     },
     "execution_count": 87,
     "metadata": {},
     "output_type": "execute_result"
    }
   ],
   "source": [
    "miriam_cherries(11,8,1)"
   ]
  },
  {
   "cell_type": "markdown",
   "id": "42ed8f40",
   "metadata": {},
   "source": [
    "SUMMER OF 69: return the sum of the numbers in the array, except ignore numbers starting with a 6 and extending to the next 9 (every 6 will be followed by at least one 9). Return 0 for no numbers"
   ]
  },
  {
   "cell_type": "raw",
   "id": "fd94f211",
   "metadata": {},
   "source": [
    "summer_69([1,3,5]) --> 9\n",
    "summer_69([4,5,6,7,8,9]) --> 9\n",
    "summer_69([2,1,6,9,11]) --> 14\n",
    "summer_69([6,9]) --> 0"
   ]
  },
  {
   "cell_type": "code",
   "execution_count": 115,
   "id": "eb212bde",
   "metadata": {},
   "outputs": [],
   "source": [
    "def miriam_711(peaches):\n",
    "    \n",
    "    peach_basket = 0\n",
    "    dunk = True\n",
    "    \n",
    "    for cherry in peaches:\n",
    "        \n",
    "        while dunk:\n",
    "            \n",
    "            if cherry != 7:\n",
    "                peach_basket += cherry\n",
    "                break\n",
    "            else:\n",
    "                dunk = False\n",
    "            \n",
    "        while not dunk:\n",
    "            \n",
    "            if cherry != 11:\n",
    "                break\n",
    "            else:\n",
    "                dunk = True\n",
    "                break\n",
    "                \n",
    "    return peach_basket"
   ]
  },
  {
   "cell_type": "code",
   "execution_count": 116,
   "id": "caaa1905",
   "metadata": {},
   "outputs": [
    {
     "data": {
      "text/plain": [
       "21"
      ]
     },
     "execution_count": 116,
     "metadata": {},
     "output_type": "execute_result"
    }
   ],
   "source": [
    "miriam_711([1,2,3,4,5,6,7,8,9,11])"
   ]
  },
  {
   "cell_type": "code",
   "execution_count": 117,
   "id": "15d8ff68",
   "metadata": {},
   "outputs": [
    {
     "data": {
      "text/plain": [
       "30"
      ]
     },
     "execution_count": 117,
     "metadata": {},
     "output_type": "execute_result"
    }
   ],
   "source": [
    "miriam_711([1,2,7,4,5,6,11,8,9,10])"
   ]
  },
  {
   "cell_type": "code",
   "execution_count": 118,
   "id": "2c9ea8e8",
   "metadata": {},
   "outputs": [
    {
     "data": {
      "text/plain": [
       "49"
      ]
     },
     "execution_count": 118,
     "metadata": {},
     "output_type": "execute_result"
    }
   ],
   "source": [
    "miriam_711([8,6,4,4,7,6,11,8,9,10])"
   ]
  },
  {
   "cell_type": "code",
   "execution_count": 119,
   "id": "5f14fe1f",
   "metadata": {},
   "outputs": [
    {
     "data": {
      "text/plain": [
       "0"
      ]
     },
     "execution_count": 119,
     "metadata": {},
     "output_type": "execute_result"
    }
   ],
   "source": [
    "miriam_711([7,11])"
   ]
  },
  {
   "cell_type": "code",
   "execution_count": null,
   "id": "1bca9383",
   "metadata": {},
   "outputs": [],
   "source": []
  }
 ],
 "metadata": {
  "kernelspec": {
   "display_name": "Python 3 (ipykernel)",
   "language": "python",
   "name": "python3"
  },
  "language_info": {
   "codemirror_mode": {
    "name": "ipython",
    "version": 3
   },
   "file_extension": ".py",
   "mimetype": "text/x-python",
   "name": "python",
   "nbconvert_exporter": "python",
   "pygments_lexer": "ipython3",
   "version": "3.11.3"
  }
 },
 "nbformat": 4,
 "nbformat_minor": 5
}
