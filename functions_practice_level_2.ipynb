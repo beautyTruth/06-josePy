{
 "cells": [
  {
   "cell_type": "markdown",
   "id": "10e69f54",
   "metadata": {},
   "source": [
    "FIND 77: given a list of ints, return True if the array contains a 7 next to a 7 somewhere"
   ]
  },
  {
   "cell_type": "raw",
   "id": "0b2836fa",
   "metadata": {},
   "source": [
    "peach_777([1,7,7,1]) -- True"
   ]
  },
  {
   "cell_type": "raw",
   "id": "603d8573",
   "metadata": {},
   "source": [
    "peach_777([1,7,1,7]) -- False"
   ]
  },
  {
   "cell_type": "raw",
   "id": "144161c0",
   "metadata": {},
   "source": [
    "peach_777([7,7,1,1]) -- True"
   ]
  },
  {
   "cell_type": "code",
   "execution_count": 13,
   "id": "060437c1",
   "metadata": {},
   "outputs": [],
   "source": [
    "def peach_777(peaches):\n",
    "    \n",
    "    for cherry in range(0,len(peaches)-1):\n",
    "        if peaches[cherry:cherry+2] == [7,7]:\n",
    "#        if peaches[cherry] == 7 and peaches[cherry+1] == 7:\n",
    "            return True\n",
    "        \n",
    "    return False"
   ]
  },
  {
   "cell_type": "code",
   "execution_count": 14,
   "id": "451da9ff",
   "metadata": {},
   "outputs": [
    {
     "data": {
      "text/plain": [
       "True"
      ]
     },
     "execution_count": 14,
     "metadata": {},
     "output_type": "execute_result"
    }
   ],
   "source": [
    "peach_777([1,7,7,1])"
   ]
  },
  {
   "cell_type": "code",
   "execution_count": 15,
   "id": "28a2fa3c",
   "metadata": {},
   "outputs": [
    {
     "data": {
      "text/plain": [
       "False"
      ]
     },
     "execution_count": 15,
     "metadata": {},
     "output_type": "execute_result"
    }
   ],
   "source": [
    "peach_777([1,7,1,7])"
   ]
  },
  {
   "cell_type": "code",
   "execution_count": 16,
   "id": "f61d647e",
   "metadata": {},
   "outputs": [
    {
     "data": {
      "text/plain": [
       "True"
      ]
     },
     "execution_count": 16,
     "metadata": {},
     "output_type": "execute_result"
    }
   ],
   "source": [
    "peach_777([7,7,1,1])"
   ]
  },
  {
   "cell_type": "code",
   "execution_count": 17,
   "id": "1ae265a7",
   "metadata": {},
   "outputs": [
    {
     "data": {
      "text/plain": [
       "True"
      ]
     },
     "execution_count": 17,
     "metadata": {},
     "output_type": "execute_result"
    }
   ],
   "source": [
    "peach_777([1,1,1,1,1,1,7,1,1,1,1,1,7,1,1,1,1,1,7,7])"
   ]
  },
  {
   "cell_type": "code",
   "execution_count": 18,
   "id": "3526b388",
   "metadata": {},
   "outputs": [
    {
     "data": {
      "text/plain": [
       "False"
      ]
     },
     "execution_count": 18,
     "metadata": {},
     "output_type": "execute_result"
    }
   ],
   "source": [
    "peach_777([1,1,1,1,1,1,7,1,1,1,1,1,7,1,1,1,1,7,1,7])"
   ]
  },
  {
   "cell_type": "code",
   "execution_count": null,
   "id": "52468abd",
   "metadata": {},
   "outputs": [],
   "source": []
  }
 ],
 "metadata": {
  "kernelspec": {
   "display_name": "Python 3 (ipykernel)",
   "language": "python",
   "name": "python3"
  },
  "language_info": {
   "codemirror_mode": {
    "name": "ipython",
    "version": 3
   },
   "file_extension": ".py",
   "mimetype": "text/x-python",
   "name": "python",
   "nbconvert_exporter": "python",
   "pygments_lexer": "ipython3",
   "version": "3.11.3"
  }
 },
 "nbformat": 4,
 "nbformat_minor": 5
}
