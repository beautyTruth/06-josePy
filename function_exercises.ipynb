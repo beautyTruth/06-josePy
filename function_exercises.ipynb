{
 "cells": [
  {
   "cell_type": "code",
   "execution_count": 5,
   "id": "3a4f6b0b",
   "metadata": {},
   "outputs": [],
   "source": [
    "def myfunc(*args):\n",
    "    even_numbers = [] # define the empty list of even numbers\n",
    "    for number in args:\n",
    "        if number % 2 == 0: # check if number is even\n",
    "            even_numbers.append(number) # if it is, store it\n",
    "    return even_numbers # Last step returns the list of even numbers"
   ]
  },
  {
   "cell_type": "code",
   "execution_count": 6,
   "id": "56b906c9",
   "metadata": {},
   "outputs": [
    {
     "data": {
      "text/plain": [
       "[2, 4, 6, 8, 10]"
      ]
     },
     "execution_count": 6,
     "metadata": {},
     "output_type": "execute_result"
    }
   ],
   "source": [
    "myfunc(1,2,3,4,5,6,7,8,9,10)"
   ]
  },
  {
   "cell_type": "code",
   "execution_count": 15,
   "id": "ccc45510",
   "metadata": {},
   "outputs": [],
   "source": [
    "def string_func(string):\n",
    "    print(range(len(string)))\n",
    "    print(len(string))\n",
    "    basket = []\n",
    "    #Iterate over the character\n",
    "    for peach in range(len(string)):\n",
    "        if peach % 2 == 0:\n",
    "            #Refer to each character via index and append modified character to list\n",
    "            basket.append(string[peach].upper())\n",
    "        else:\n",
    "            basket.append(string[peach].lower())\n",
    "\n",
    "    #Join the list into a string and return\n",
    "    return ''.join(basket)\n",
    "    "
   ]
  },
  {
   "cell_type": "code",
   "execution_count": 16,
   "id": "d3c410c3",
   "metadata": {},
   "outputs": [
    {
     "name": "stdout",
     "output_type": "stream",
     "text": [
      "range(0, 23)\n",
      "23\n"
     ]
    },
    {
     "data": {
      "text/plain": [
       "'IlOvEcHeRrIeSaNdPeAcHeS'"
      ]
     },
     "execution_count": 16,
     "metadata": {},
     "output_type": "execute_result"
    }
   ],
   "source": [
    "string_func('ilovecherriesandpeaches')"
   ]
  },
  {
   "cell_type": "code",
   "execution_count": null,
   "id": "602e5ad7",
   "metadata": {},
   "outputs": [],
   "source": []
  }
 ],
 "metadata": {
  "kernelspec": {
   "display_name": "Python 3 (ipykernel)",
   "language": "python",
   "name": "python3"
  },
  "language_info": {
   "codemirror_mode": {
    "name": "ipython",
    "version": 3
   },
   "file_extension": ".py",
   "mimetype": "text/x-python",
   "name": "python",
   "nbconvert_exporter": "python",
   "pygments_lexer": "ipython3",
   "version": "3.11.3"
  }
 },
 "nbformat": 4,
 "nbformat_minor": 5
}
