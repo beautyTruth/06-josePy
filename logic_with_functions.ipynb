{
 "cells": [
  {
   "cell_type": "code",
   "execution_count": 1,
   "id": "10cfe014",
   "metadata": {},
   "outputs": [],
   "source": [
    "def even_flow(jam):\n",
    "    pearl = jam % 2 == 0\n",
    "    return pearl"
   ]
  },
  {
   "cell_type": "code",
   "execution_count": 2,
   "id": "9c5873fd",
   "metadata": {},
   "outputs": [
    {
     "data": {
      "text/plain": [
       "False"
      ]
     },
     "execution_count": 2,
     "metadata": {},
     "output_type": "execute_result"
    }
   ],
   "source": [
    "even_flow(21)"
   ]
  },
  {
   "cell_type": "code",
   "execution_count": 3,
   "id": "0e1e6baf",
   "metadata": {},
   "outputs": [
    {
     "data": {
      "text/plain": [
       "True"
      ]
     },
     "execution_count": 3,
     "metadata": {},
     "output_type": "execute_result"
    }
   ],
   "source": [
    "even_flow(22)"
   ]
  },
  {
   "cell_type": "markdown",
   "id": "5d7833db",
   "metadata": {},
   "source": [
    "or "
   ]
  },
  {
   "cell_type": "code",
   "execution_count": 4,
   "id": "1654494a",
   "metadata": {},
   "outputs": [],
   "source": [
    "def even_flow(jam):\n",
    "    return jam%2==0"
   ]
  },
  {
   "cell_type": "code",
   "execution_count": 5,
   "id": "50cfc54b",
   "metadata": {},
   "outputs": [
    {
     "data": {
      "text/plain": [
       "False"
      ]
     },
     "execution_count": 5,
     "metadata": {},
     "output_type": "execute_result"
    }
   ],
   "source": [
    "even_flow(31)"
   ]
  },
  {
   "cell_type": "code",
   "execution_count": 6,
   "id": "2258161c",
   "metadata": {},
   "outputs": [
    {
     "data": {
      "text/plain": [
       "True"
      ]
     },
     "execution_count": 6,
     "metadata": {},
     "output_type": "execute_result"
    }
   ],
   "source": [
    "even_flow(30)"
   ]
  },
  {
   "cell_type": "code",
   "execution_count": 7,
   "id": "46be0389",
   "metadata": {},
   "outputs": [],
   "source": [
    "# return true if any number is even inside of a list"
   ]
  },
  {
   "cell_type": "code",
   "execution_count": 12,
   "id": "b62a12a3",
   "metadata": {},
   "outputs": [],
   "source": [
    "def check_out_barbie(number_list):\n",
    "    \n",
    "    for barbie in number_list:\n",
    "        if barbie % 2 == 0:\n",
    "            return True\n",
    "        else:\n",
    "            pass\n",
    "    return False"
   ]
  },
  {
   "cell_type": "code",
   "execution_count": 13,
   "id": "cff67072",
   "metadata": {},
   "outputs": [
    {
     "data": {
      "text/plain": [
       "False"
      ]
     },
     "execution_count": 13,
     "metadata": {},
     "output_type": "execute_result"
    }
   ],
   "source": [
    "check_out_barbie([1,3,5,7,9])"
   ]
  },
  {
   "cell_type": "code",
   "execution_count": 14,
   "id": "a03db80d",
   "metadata": {},
   "outputs": [
    {
     "data": {
      "text/plain": [
       "True"
      ]
     },
     "execution_count": 14,
     "metadata": {},
     "output_type": "execute_result"
    }
   ],
   "source": [
    "check_out_barbie([1,3,4,6,7])"
   ]
  },
  {
   "cell_type": "code",
   "execution_count": 15,
   "id": "6fdab99a",
   "metadata": {},
   "outputs": [
    {
     "data": {
      "text/plain": [
       "True"
      ]
     },
     "execution_count": 15,
     "metadata": {},
     "output_type": "execute_result"
    }
   ],
   "source": [
    "check_out_barbie([1,1,1,1,1,1,1,1,1,2])"
   ]
  },
  {
   "cell_type": "code",
   "execution_count": 16,
   "id": "869fb17a",
   "metadata": {},
   "outputs": [
    {
     "data": {
      "text/plain": [
       "False"
      ]
     },
     "execution_count": 16,
     "metadata": {},
     "output_type": "execute_result"
    }
   ],
   "source": [
    "check_out_barbie([1,1,1,1,1,1,1,1,1,1,3])"
   ]
  },
  {
   "cell_type": "code",
   "execution_count": 17,
   "id": "6870a9ac",
   "metadata": {},
   "outputs": [],
   "source": [
    "def barbie_peach(peach_basket):\n",
    "    # return all even numbers in a list\n",
    "    \n",
    "    #placeholder variebles like this are usually at the top of a function\n",
    "    even_numbers = []\n",
    "    \n",
    "    for peach in peach_basket:\n",
    "        if peach % 2 == 0:\n",
    "            even_numbers.append(peach)\n",
    "            \n",
    "        else:\n",
    "            pass\n",
    "        \n",
    "    return even_numbers\n",
    "            "
   ]
  },
  {
   "cell_type": "code",
   "execution_count": 18,
   "id": "38cb5044",
   "metadata": {},
   "outputs": [
    {
     "data": {
      "text/plain": [
       "[2, 4, 6, 8]"
      ]
     },
     "execution_count": 18,
     "metadata": {},
     "output_type": "execute_result"
    }
   ],
   "source": [
    "barbie_peach([1,2,3,4,5,6,7,8,9])"
   ]
  },
  {
   "cell_type": "code",
   "execution_count": 19,
   "id": "d081ec18",
   "metadata": {},
   "outputs": [
    {
     "data": {
      "text/plain": [
       "[]"
      ]
     },
     "execution_count": 19,
     "metadata": {},
     "output_type": "execute_result"
    }
   ],
   "source": [
    "barbie_peach([1,3,5,7,9])"
   ]
  },
  {
   "cell_type": "code",
   "execution_count": null,
   "id": "e1bb1346",
   "metadata": {},
   "outputs": [],
   "source": []
  }
 ],
 "metadata": {
  "kernelspec": {
   "display_name": "Python 3 (ipykernel)",
   "language": "python",
   "name": "python3"
  },
  "language_info": {
   "codemirror_mode": {
    "name": "ipython",
    "version": 3
   },
   "file_extension": ".py",
   "mimetype": "text/x-python",
   "name": "python",
   "nbconvert_exporter": "python",
   "pygments_lexer": "ipython3",
   "version": "3.11.3"
  }
 },
 "nbformat": 4,
 "nbformat_minor": 5
}
