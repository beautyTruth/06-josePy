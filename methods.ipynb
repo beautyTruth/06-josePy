{
 "cells": [
  {
   "cell_type": "code",
   "execution_count": 1,
   "id": "f694fb6b",
   "metadata": {},
   "outputs": [],
   "source": [
    "peaches = ['cherries','eggs','blueberries']"
   ]
  },
  {
   "cell_type": "code",
   "execution_count": 2,
   "id": "eb279aa9",
   "metadata": {},
   "outputs": [],
   "source": [
    "peaches.append('bananas')"
   ]
  },
  {
   "cell_type": "code",
   "execution_count": 3,
   "id": "82e8f348",
   "metadata": {},
   "outputs": [
    {
     "data": {
      "text/plain": [
       "['cherries', 'eggs', 'blueberries', 'bananas']"
      ]
     },
     "execution_count": 3,
     "metadata": {},
     "output_type": "execute_result"
    }
   ],
   "source": [
    "peaches"
   ]
  },
  {
   "cell_type": "code",
   "execution_count": 4,
   "id": "60bb6f50",
   "metadata": {},
   "outputs": [
    {
     "data": {
      "text/plain": [
       "'bananas'"
      ]
     },
     "execution_count": 4,
     "metadata": {},
     "output_type": "execute_result"
    }
   ],
   "source": [
    "peaches.pop()"
   ]
  },
  {
   "cell_type": "code",
   "execution_count": 5,
   "id": "c08db1d7",
   "metadata": {},
   "outputs": [
    {
     "data": {
      "text/plain": [
       "['cherries', 'eggs', 'blueberries']"
      ]
     },
     "execution_count": 5,
     "metadata": {},
     "output_type": "execute_result"
    }
   ],
   "source": [
    "peaches"
   ]
  },
  {
   "cell_type": "code",
   "execution_count": 6,
   "id": "8960abba",
   "metadata": {},
   "outputs": [],
   "source": [
    "peaches.append('nutella')"
   ]
  },
  {
   "cell_type": "code",
   "execution_count": 7,
   "id": "0b21fafe",
   "metadata": {},
   "outputs": [
    {
     "data": {
      "text/plain": [
       "['cherries', 'eggs', 'blueberries', 'nutella']"
      ]
     },
     "execution_count": 7,
     "metadata": {},
     "output_type": "execute_result"
    }
   ],
   "source": [
    "peaches"
   ]
  },
  {
   "cell_type": "markdown",
   "id": "de3600f8",
   "metadata": {},
   "source": [
    "don't forget about shift tab or . tab when using methods on objects"
   ]
  },
  {
   "cell_type": "code",
   "execution_count": null,
   "id": "144f3456",
   "metadata": {},
   "outputs": [],
   "source": []
  }
 ],
 "metadata": {
  "kernelspec": {
   "display_name": "Python 3 (ipykernel)",
   "language": "python",
   "name": "python3"
  },
  "language_info": {
   "codemirror_mode": {
    "name": "ipython",
    "version": 3
   },
   "file_extension": ".py",
   "mimetype": "text/x-python",
   "name": "python",
   "nbconvert_exporter": "python",
   "pygments_lexer": "ipython3",
   "version": "3.11.3"
  }
 },
 "nbformat": 4,
 "nbformat_minor": 5
}
