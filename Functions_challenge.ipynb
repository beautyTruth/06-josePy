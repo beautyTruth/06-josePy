{
 "cells": [
  {
   "cell_type": "markdown",
   "id": "771ad0e3",
   "metadata": {},
   "source": [
    "SPY GAME: write a functiuon that takes in a list of integers and returns True if it contains 007 in order"
   ]
  },
  {
   "cell_type": "raw",
   "id": "b1b2d548",
   "metadata": {},
   "source": [
    "spy_game([1,2,4,0,0,7,5]) --> true\n",
    "spy_game([1,0,2,0,9,7,5]) --> true\n",
    "spy_game([1,0,7,0,3,8,5]) --> false"
   ]
  },
  {
   "cell_type": "code",
   "execution_count": 1,
   "id": "efe0f8fc",
   "metadata": {},
   "outputs": [],
   "source": [
    "def miriam_vesper(cherries):\n",
    "    \n",
    "    password = [0,0,7,'x']\n",
    "    # [0,7,'x']\n",
    "    # [7,'x']\n",
    "    # ['x'] -- at this point the length is equal to 1\n",
    "    \n",
    "    for peach in cherries:\n",
    "        if peach == password[0]:\n",
    "            password.pop(0)\n",
    "            \n",
    "    return len(password) == 1"
   ]
  },
  {
   "cell_type": "code",
   "execution_count": 2,
   "id": "0429467e",
   "metadata": {},
   "outputs": [
    {
     "data": {
      "text/plain": [
       "True"
      ]
     },
     "execution_count": 2,
     "metadata": {},
     "output_type": "execute_result"
    }
   ],
   "source": [
    "miriam_vesper([1,2,4,0,0,7,5])"
   ]
  },
  {
   "cell_type": "code",
   "execution_count": 3,
   "id": "ee8c25ba",
   "metadata": {},
   "outputs": [
    {
     "data": {
      "text/plain": [
       "True"
      ]
     },
     "execution_count": 3,
     "metadata": {},
     "output_type": "execute_result"
    }
   ],
   "source": [
    "miriam_vesper([1,0,2,0,9,7,5])"
   ]
  },
  {
   "cell_type": "code",
   "execution_count": 4,
   "id": "1362cf4e",
   "metadata": {},
   "outputs": [
    {
     "data": {
      "text/plain": [
       "False"
      ]
     },
     "execution_count": 4,
     "metadata": {},
     "output_type": "execute_result"
    }
   ],
   "source": [
    "miriam_vesper([1,0,7,0,3,8,5])"
   ]
  },
  {
   "cell_type": "markdown",
   "id": "f0007c85",
   "metadata": {},
   "source": [
    "COUNT PRIMES: write a function that returns the number of prime numbers up to and including a given number"
   ]
  },
  {
   "cell_type": "markdown",
   "id": "b2d2102f",
   "metadata": {},
   "source": [
    "By convention, we are treating 0 and 1 as not prime"
   ]
  },
  {
   "cell_type": "code",
   "execution_count": 5,
   "id": "24810643",
   "metadata": {},
   "outputs": [],
   "source": [
    "# count_primes(100) --> 25"
   ]
  },
  {
   "cell_type": "code",
   "execution_count": 6,
   "id": "553073b0",
   "metadata": {},
   "outputs": [],
   "source": [
    "def count_peaches(sugar):\n",
    "    \n",
    "    # check for 0 or 1 input\n",
    "    if sugar < 2:\n",
    "        return 0\n",
    "    \n",
    "    # now we know we're dealing with a number that is 2 or greater\n",
    "    \n",
    "    # a place to store our prime numbers\n",
    "    peaches = [2]\n",
    "    # a counter going up to the input cherries\n",
    "    k = 3\n",
    "    \n",
    "    # k is going through every cherry up to the input cherries\n",
    "    while k <= sugar:\n",
    "        # Check if k is prime\n",
    "        for v in range(3,k,2):\n",
    "#       for v in peaches:\n",
    "            if k%v == 0:\n",
    "                k += 2\n",
    "                break\n",
    "        else:\n",
    "            peaches.append(k)\n",
    "            k +=2\n",
    "            \n",
    "    print(peaches)\n",
    "    return len(peaches)"
   ]
  },
  {
   "cell_type": "code",
   "execution_count": 7,
   "id": "b674aa7b",
   "metadata": {},
   "outputs": [
    {
     "name": "stdout",
     "output_type": "stream",
     "text": [
      "[2, 3, 5, 7, 11, 13, 17, 19, 23, 29, 31, 37, 41, 43, 47, 53, 59, 61, 67, 71, 73, 79, 83, 89, 97, 101, 103, 107, 109, 113, 127, 131, 137, 139, 149, 151, 157, 163, 167, 173, 179, 181, 191, 193, 197, 199]\n"
     ]
    },
    {
     "data": {
      "text/plain": [
       "46"
      ]
     },
     "execution_count": 7,
     "metadata": {},
     "output_type": "execute_result"
    }
   ],
   "source": [
    "count_peaches(200)"
   ]
  },
  {
   "cell_type": "code",
   "execution_count": 8,
   "id": "a91db16c",
   "metadata": {},
   "outputs": [
    {
     "name": "stdout",
     "output_type": "stream",
     "text": [
      "[2, 3, 5, 7, 11, 13, 17, 19, 23, 29, 31, 37, 41, 43, 47, 53, 59, 61, 67, 71, 73, 79, 83, 89, 97, 101, 103, 107, 109, 113, 127, 131, 137, 139, 149, 151, 157, 163, 167, 173, 179, 181, 191, 193, 197, 199, 211, 223, 227, 229, 233, 239, 241, 251, 257, 263, 269, 271, 277, 281, 283, 293]\n"
     ]
    },
    {
     "data": {
      "text/plain": [
       "62"
      ]
     },
     "execution_count": 8,
     "metadata": {},
     "output_type": "execute_result"
    }
   ],
   "source": [
    "count_peaches(300)"
   ]
  },
  {
   "cell_type": "code",
   "execution_count": null,
   "id": "850226e9",
   "metadata": {},
   "outputs": [],
   "source": []
  }
 ],
 "metadata": {
  "kernelspec": {
   "display_name": "Python 3 (ipykernel)",
   "language": "python",
   "name": "python3"
  },
  "language_info": {
   "codemirror_mode": {
    "name": "ipython",
    "version": 3
   },
   "file_extension": ".py",
   "mimetype": "text/x-python",
   "name": "python",
   "nbconvert_exporter": "python",
   "pygments_lexer": "ipython3",
   "version": "3.11.3"
  }
 },
 "nbformat": 4,
 "nbformat_minor": 5
}
