{
 "cells": [
  {
   "cell_type": "code",
   "execution_count": 1,
   "id": "718c8768",
   "metadata": {},
   "outputs": [],
   "source": [
    "fruit_prices = [('peaches',9.99),('cherries',7.99),('eggplant',3.99)]"
   ]
  },
  {
   "cell_type": "code",
   "execution_count": 2,
   "id": "beae2db0",
   "metadata": {},
   "outputs": [
    {
     "name": "stdout",
     "output_type": "stream",
     "text": [
      "peaches\n",
      "cherries\n",
      "eggplant\n"
     ]
    }
   ],
   "source": [
    "for fruit,price in fruit_prices:\n",
    "    print(fruit)"
   ]
  },
  {
   "cell_type": "code",
   "execution_count": 4,
   "id": "b3c814f5",
   "metadata": {},
   "outputs": [
    {
     "name": "stdout",
     "output_type": "stream",
     "text": [
      "10.989\n",
      "8.789\n",
      "4.389\n"
     ]
    }
   ],
   "source": [
    "for fruit,price in fruit_prices:\n",
    "    print((price*0.1)+price)"
   ]
  },
  {
   "cell_type": "code",
   "execution_count": 9,
   "id": "4bedd59d",
   "metadata": {},
   "outputs": [],
   "source": [
    "cherries_size = [('Miriam',302),('Amber',271),('Alice',199),('Lina',622)]"
   ]
  },
  {
   "cell_type": "code",
   "execution_count": 10,
   "id": "f4ce4156",
   "metadata": {},
   "outputs": [],
   "source": [
    "def best_cherries(cherries_size):\n",
    "    \n",
    "    current_best = 0\n",
    "    biggest_cherries = ''\n",
    "    \n",
    "    for hottie,size in cherries_size:\n",
    "        if size > current_best:\n",
    "            current_best = size\n",
    "            biggest_cherries = hottie\n",
    "        else:\n",
    "            pass\n",
    "    \n",
    "    # return the biggest cherries\n",
    "    \n",
    "    return (biggest_cherries, current_best)"
   ]
  },
  {
   "cell_type": "code",
   "execution_count": 11,
   "id": "32ba9e6c",
   "metadata": {},
   "outputs": [
    {
     "data": {
      "text/plain": [
       "('Lina', 622)"
      ]
     },
     "execution_count": 11,
     "metadata": {},
     "output_type": "execute_result"
    }
   ],
   "source": [
    "best_cherries(cherries_size)"
   ]
  },
  {
   "cell_type": "code",
   "execution_count": 12,
   "id": "6e8e4059",
   "metadata": {},
   "outputs": [],
   "source": [
    "winner = best_cherries(cherries_size)"
   ]
  },
  {
   "cell_type": "code",
   "execution_count": 13,
   "id": "59e8d4a7",
   "metadata": {},
   "outputs": [
    {
     "data": {
      "text/plain": [
       "('Lina', 622)"
      ]
     },
     "execution_count": 13,
     "metadata": {},
     "output_type": "execute_result"
    }
   ],
   "source": [
    "winner"
   ]
  },
  {
   "cell_type": "code",
   "execution_count": 14,
   "id": "1db41baf",
   "metadata": {},
   "outputs": [],
   "source": [
    "hottie,size = best_cherries(cherries_size)"
   ]
  },
  {
   "cell_type": "code",
   "execution_count": 15,
   "id": "38e3e1ed",
   "metadata": {},
   "outputs": [
    {
     "data": {
      "text/plain": [
       "'Lina'"
      ]
     },
     "execution_count": 15,
     "metadata": {},
     "output_type": "execute_result"
    }
   ],
   "source": [
    "hottie"
   ]
  },
  {
   "cell_type": "code",
   "execution_count": 16,
   "id": "2692e92a",
   "metadata": {},
   "outputs": [
    {
     "data": {
      "text/plain": [
       "622"
      ]
     },
     "execution_count": 16,
     "metadata": {},
     "output_type": "execute_result"
    }
   ],
   "source": [
    "size"
   ]
  },
  {
   "cell_type": "code",
   "execution_count": null,
   "id": "5f496c04",
   "metadata": {},
   "outputs": [],
   "source": []
  }
 ],
 "metadata": {
  "kernelspec": {
   "display_name": "Python 3 (ipykernel)",
   "language": "python",
   "name": "python3"
  },
  "language_info": {
   "codemirror_mode": {
    "name": "ipython",
    "version": 3
   },
   "file_extension": ".py",
   "mimetype": "text/x-python",
   "name": "python",
   "nbconvert_exporter": "python",
   "pygments_lexer": "ipython3",
   "version": "3.11.3"
  }
 },
 "nbformat": 4,
 "nbformat_minor": 5
}
